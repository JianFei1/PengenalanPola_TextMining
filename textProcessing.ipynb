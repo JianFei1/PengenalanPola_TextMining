{
 "cells": [
  {
   "cell_type": "markdown",
   "metadata": {},
   "source": [
    "## tugas 2 - clean number & symbol - stopword - Stemming"
   ]
  },
  {
   "cell_type": "code",
   "execution_count": 41,
   "metadata": {},
   "outputs": [],
   "source": [
    "import pandas as pd\n",
    "import nltk\n",
    "from nltk.corpus import stopwords\n",
    "from nltk import word_tokenize, FreqDist\n",
    "import numpy as np\n",
    "from Sastrawi.Stemmer.StemmerFactory import StemmerFactory\n"
   ]
  },
  {
   "cell_type": "markdown",
   "metadata": {},
   "source": [
    "## import data frame"
   ]
  },
  {
   "cell_type": "code",
   "execution_count": 42,
   "metadata": {},
   "outputs": [
    {
     "data": {
      "text/html": [
       "<div>\n",
       "<style scoped>\n",
       "    .dataframe tbody tr th:only-of-type {\n",
       "        vertical-align: middle;\n",
       "    }\n",
       "\n",
       "    .dataframe tbody tr th {\n",
       "        vertical-align: top;\n",
       "    }\n",
       "\n",
       "    .dataframe thead th {\n",
       "        text-align: right;\n",
       "    }\n",
       "</style>\n",
       "<table border=\"1\" class=\"dataframe\">\n",
       "  <thead>\n",
       "    <tr style=\"text-align: right;\">\n",
       "      <th></th>\n",
       "      <th>judul</th>\n",
       "      <th>tanggal</th>\n",
       "      <th>label</th>\n",
       "      <th>isi</th>\n",
       "    </tr>\n",
       "  </thead>\n",
       "  <tbody>\n",
       "    <tr>\n",
       "      <th>0</th>\n",
       "      <td>Tawuran Pelajar 2 Sekolah di Tangerang, Satu O...</td>\n",
       "      <td>- 21/03/2022, 16:34 WIB</td>\n",
       "      <td>Megapolitan</td>\n",
       "      <td>- , antarsiswa dua sekolah terjadi di wilayah...</td>\n",
       "    </tr>\n",
       "    <tr>\n",
       "      <th>1</th>\n",
       "      <td>Menteri PANRB Cabut Aturan Pembatasan ASN Bepe...</td>\n",
       "      <td>- 21/03/2022, 15:12 WIB</td>\n",
       "      <td>Nasional</td>\n",
       "      <td>- Menteri Pendayagunaan Aparatur Negara dan R...</td>\n",
       "    </tr>\n",
       "    <tr>\n",
       "      <th>2</th>\n",
       "      <td>2 ART Penganiaya 3 Anak Balita Majikan Ditetap...</td>\n",
       "      <td>- 21/03/2022, 16:54 WIB</td>\n",
       "      <td>Megapolitan</td>\n",
       "      <td>- Dua orang asisten rumah tangga (,) ditetapk...</td>\n",
       "    </tr>\n",
       "    <tr>\n",
       "      <th>3</th>\n",
       "      <td>UPDATE 21 Maret: Tambah 154, Kasus Kematian Co...</td>\n",
       "      <td>- 21/03/2022, 16:50 WIB</td>\n",
       "      <td>Nasional</td>\n",
       "      <td>Pasien Covid-19 di Indonesia meninggal dunia ...</td>\n",
       "    </tr>\n",
       "    <tr>\n",
       "      <th>4</th>\n",
       "      <td>Haris Azhar-Fatia Tersangka Dinilai Bukti Peja...</td>\n",
       "      <td>- 21/03/2022, 15:07 WIB</td>\n",
       "      <td>Nasional</td>\n",
       "      <td>- Aktivis hak asasi manusia sekaligus dosen U...</td>\n",
       "    </tr>\n",
       "  </tbody>\n",
       "</table>\n",
       "</div>"
      ],
      "text/plain": [
       "                                               judul  \\\n",
       "0  Tawuran Pelajar 2 Sekolah di Tangerang, Satu O...   \n",
       "1  Menteri PANRB Cabut Aturan Pembatasan ASN Bepe...   \n",
       "2  2 ART Penganiaya 3 Anak Balita Majikan Ditetap...   \n",
       "3  UPDATE 21 Maret: Tambah 154, Kasus Kematian Co...   \n",
       "4  Haris Azhar-Fatia Tersangka Dinilai Bukti Peja...   \n",
       "\n",
       "                    tanggal        label  \\\n",
       "0   - 21/03/2022, 16:34 WIB  Megapolitan   \n",
       "1   - 21/03/2022, 15:12 WIB     Nasional   \n",
       "2   - 21/03/2022, 16:54 WIB  Megapolitan   \n",
       "3   - 21/03/2022, 16:50 WIB     Nasional   \n",
       "4   - 21/03/2022, 15:07 WIB     Nasional   \n",
       "\n",
       "                                                 isi  \n",
       "0   - , antarsiswa dua sekolah terjadi di wilayah...  \n",
       "1   - Menteri Pendayagunaan Aparatur Negara dan R...  \n",
       "2   - Dua orang asisten rumah tangga (,) ditetapk...  \n",
       "3   Pasien Covid-19 di Indonesia meninggal dunia ...  \n",
       "4   - Aktivis hak asasi manusia sekaligus dosen U...  "
      ]
     },
     "execution_count": 42,
     "metadata": {},
     "output_type": "execute_result"
    }
   ],
   "source": [
    "#import data frame\n",
    "dataCSV = pd.read_csv('isi_berita.csv')\n",
    "dataCSV.head()"
   ]
  },
  {
   "cell_type": "markdown",
   "metadata": {},
   "source": [
    "## Stopword NLK"
   ]
  },
  {
   "cell_type": "code",
   "execution_count": 43,
   "metadata": {},
   "outputs": [
    {
     "name": "stdout",
     "output_type": "stream",
     "text": [
      "[['tawuran', 'pelajar', 'sekolah', 'tangerang', 'orang', 'tewas', 'kena', 'bacok'], ['menteri', 'panrb', 'cabut', 'aturan', 'pembatasan', 'asn', 'bepergian', 'negeri'], ['art', 'penganiaya', 'anak', 'balita', 'majikan', 'ditetapkan', 'tersangka'], ['update', 'maret', 'kematian', 'jiwa'], ['haris', 'tersangka', 'dinilai', 'bukti', 'pejabat', 'sulit', 'terima', 'kritik'], ['bacakan', 'pleidoi', 'munarman', 'perkaranya', 'direkayasa', 'tutupi', 'pembunuhan', 'laskar', 'fpi'], ['mpr', 'agendakan', 'amendemen', 'uud', 'tunda', 'pemilu'], ['ketua', 'kpu', 'konsisten', 'lanjutkan', 'pemilu'], ['pengamat', 'sarankan', 'tarif', 'terintegrasi', 'transportasi', 'jakarta', 'dinikmati', 'warga', 'bodetabek'], ['dikriminalisasi', 'pejabat', 'fatia', 'presiden', 'jokowi', 'mestinya', 'soroti', 'sibuk', 'kriminalisasi'], ['warga', 'korban', 'kebakaran', 'cipete', 'cari', 'sisa', 'barang', 'berharga'], ['ditangkap', 'terkait', 'narkoba', 'gitaris', 'roby', 'geisha', 'sembunyikan', 'barang', 'bukti', 'ganja'], ['update', 'maret', 'total', 'sembuh', 'capai'], ['update', 'harian', 'capai'], ['wakil', 'wali', 'kota', 'depok', 'minyak', 'goreng', 'wasilah', 'diusut', 'tuntas'], ['luhut', 'bantahan', 'main', 'tambang', 'papua', 'ketimbang', 'perkarakan', 'haris'], ['bareskrim', 'sita', 'aset', 'senilai', 'rp', 'miliar', 'milik', 'petinggi', 'robot', 'trading', 'viral', 'blast'], ['beroperasi', 'sejarah', 'gedung', 'sarinah', 'jakarta'], ['polri', 'tanggapi', 'pernyataan', 'mendag', 'tersangka', 'mafia', 'minyak', 'goreng', 'crosscheck'], ['pimpin', 'sidang', 'ipu', 'puan', 'parlemen', 'mobilisasi', 'aksi', 'nyata', 'atasi', 'perubahan', 'iklim'], ['munarman', 'pernyataan', 'petinggi', 'parpol', 'wacana', 'tunda', 'pemilu', 'langgar', 'konstitusi', 'dipidana'], ['asn', 'dki', 'jakarta', 'laporkan', 'harta', 'kekayaan', 'wagub', 'ariza', 'wajib', 'lapor'], ['rusun', 'marunda', 'sebulan', 'tercemar', 'debu', 'batu', 'bara', 'warga', 'menyapu', 'debunya', 'hitam'], ['bmkg', 'prediksi', 'es', 'puncak', 'jayawijaya', 'punah'], ['haris', 'tersangka', 'aktivis', 'bentuk', 'kemerosotan', 'demokrasi'], ['update', 'spesimen', 'diperiksa', 'sehari', 'positivity', 'rate', 'versi', 'pcr', 'persen'], ['sekolah', 'marunda', 'keluhkan', 'debu', 'batu', 'bara', 'diabaikan', 'pt', 'kcn'], ['alasan', 'art', 'aniaya', 'anak', 'majikan', 'cengkareng', 'kesal', 'korban', 'menangis', 'susah', 'makan'], ['polisi', 'amankan', 'kg', 'sabu', 'jaringan', 'narkoba'], ['pimpinan', 'komisi', 'vi', 'nilai', 'hak', 'angket', 'minyak', 'goreng'], ['umkm', 'buka', 'gerai', 'mal', 'sarinah', 'dibuka'], ['pengemudi', 'mercy', 'halangi', 'ambulans', 'hadiri', 'mediasi', 'pertemuan', 'dijadwal', 'ulang'], ['publik', 'dinilai', 'anggap', 'kpk', 'setangguh'], ['antusiasme', 'warga', 'kunjungi', 'mal', 'sarinah', 'beroperasi'], ['mayoritas', 'publik', 'puas', 'kpk', 'kinerja', 'dewas'], ['beroperasi', 'renovasi', 'sarinah', 'diharapkan', 'penggerak', 'produk', 'lokal'], ['bacakan', 'eksepsi', 'kuasa', 'hukum', 'adam', 'deni', 'dakwaan', 'jaksa'], ['nama', 'wali', 'kota', 'wakil', 'wali', 'kota', 'depok', 'dicatut', 'penipuan', 'penggalangan', 'dana', 'sosial'], ['gitaris', 'geisha', 'roby', 'satria', 'ditangkap', 'ganja', 'laporan', 'studio', 'musik', 'kerap', 'narkoba'], ['nasdem', 'tunda', 'amendemen', 'pphn', 'uud', 'cegah', 'isu', 'tunda', 'pemilu'], ['kpu', 'uji', 'publik', 'rancangan', 'pkpu', 'pendaftaran', 'parpol', 'peserta', 'pemilu'], ['polisi', 'enggan', 'identitas', 'pengemudi', 'mercy', 'halangi', 'mobil', 'ambulans', 'bawa', 'bumil'], ['diperiksa', 'tersangka', 'pencemaran', 'nama', 'luhut', 'fatia', 'maulidiyanti', 'ditahan', 'terbukti', 'represif'], ['nama', 'wali', 'kota', 'wakil', 'wali', 'kota', 'depok', 'dicatut', 'penipuan', 'modusnya'], ['polisi', 'periksa', 'klub', 'madura', 'united', 'terkait', 'robot', 'trading', 'viral', 'blast'], ['puan', 'serukan', 'kemitraan', 'global', 'multilateral', 'selesaikan', 'konflik', 'antarnegara', 'dampak', 'perubahan', 'iklim'], ['pelajar', 'tewas', 'akibat', 'tawuran', 'tangerang', 'polisi', 'tetapkan', 'tersangka'], ['psi', 'pejabat', 'dki', 'jakarta', 'laporkan', 'harta', 'kekayaan'], ['klaim', 'laporkan', 'mafia', 'minyak', 'goreng', 'polisi', 'mendag', 'semoga', 'diungkap'], ['diusulkan', 'selidiki', 'kekisruhan', 'minyak', 'goreng', 'hak', 'angket', 'dpr'], ['berkaca', 'motogp', 'wagub', 'dki', 'berharap', 'pergelaran', 'formula', 'e', 'sukses'], ['tangkap', 'teroris', 'maret', 'densus', 'terorisme'], ['satpol', 'pp', 'dki', 'gelar', 'razia', 'pmks', 'ramadhan', 'janji', 'bertindak', 'arogan'], ['update', 'maret', 'orang', 'suspek', 'terkait', 'indonesia'], ['polisi', 'panggil', 'pengemudi', 'mercy', 'halangi', 'ambulans', 'tol', 'rabu', 'pekan'], ['puan', 'tekankan', 'diplomasi', 'parlemen', 'menjembatani', 'perbedaan', 'antarnegara', 'ipu'], ['balap', 'formula', 'e', 'jakarta', 'pakai', 'pawang', 'hujan', 'wagub', 'dki'], ['ptm', 'persen', 'wagub', 'dki', 'insya', 'allah'], ['sekolah', 'tercemar', 'debu', 'batu', 'bara', 'siswa', 'sdn', 'marunda', 'alami', 'kerusakan', 'mata', 'ganti', 'kornea'], ['kpu', 'surati', 'dpr', 'bahas', 'tahapan', 'jadwal', 'program', 'pemilu']]\n"
     ]
    }
   ],
   "source": [
    "index_iloc = 0\n",
    "len_df = len(dataCSV.index)\n",
    "array_stopwords = []\n",
    "for kata in range(len_df):\n",
    "    # indexData itu ambil tiap bagian dari data frame dengan nama dataCSV\n",
    "    indexData = dataCSV.iloc[index_iloc, [0]].values\n",
    "    clean_words = [w for w in word_tokenize(indexData[0].lower())\n",
    "                                    if w.isalpha()\n",
    "                                    and w not in stopwords.words('indonesian')]\n",
    "    \n",
    "    array_stopwords.append(clean_words)\n",
    "    index_iloc += 1\n",
    "\n",
    "    # FreqDist(clean_words).most_common(20)\n",
    "print(array_stopwords)"
   ]
  },
  {
   "cell_type": "markdown",
   "metadata": {},
   "source": [
    "## stemming - sastrawi"
   ]
  },
  {
   "cell_type": "code",
   "execution_count": 44,
   "metadata": {},
   "outputs": [],
   "source": [
    "# mendefinisikan function stemming\n",
    "factory = StemmerFactory()\n",
    "stemmer = factory.create_stemmer()\n",
    "\n",
    "array_stemming = [] \n",
    "for j in array_stopwords:\n",
    "    # proses stem per kalimat\n",
    "    temp = \"\"\n",
    "    for i in j:\n",
    "        # print(i)\n",
    "        temp = temp +\" \"+ i\n",
    "\n",
    "    hasil = stemmer.stem(temp)\n",
    "    array_stemming.append(hasil)\n",
    "# print('array ', array_stemming)"
   ]
  },
  {
   "cell_type": "markdown",
   "metadata": {},
   "source": [
    "## export to csv"
   ]
  },
  {
   "cell_type": "code",
   "execution_count": 45,
   "metadata": {},
   "outputs": [
    {
     "data": {
      "text/html": [
       "<div>\n",
       "<style scoped>\n",
       "    .dataframe tbody tr th:only-of-type {\n",
       "        vertical-align: middle;\n",
       "    }\n",
       "\n",
       "    .dataframe tbody tr th {\n",
       "        vertical-align: top;\n",
       "    }\n",
       "\n",
       "    .dataframe thead th {\n",
       "        text-align: right;\n",
       "    }\n",
       "</style>\n",
       "<table border=\"1\" class=\"dataframe\">\n",
       "  <thead>\n",
       "    <tr style=\"text-align: right;\">\n",
       "      <th></th>\n",
       "      <th>tanggal</th>\n",
       "      <th>label</th>\n",
       "      <th>judul</th>\n",
       "    </tr>\n",
       "  </thead>\n",
       "  <tbody>\n",
       "    <tr>\n",
       "      <th>0</th>\n",
       "      <td>- 21/03/2022, 16:34 WIB</td>\n",
       "      <td>Megapolitan</td>\n",
       "      <td>tawur ajar sekolah tangerang orang tewas kena ...</td>\n",
       "    </tr>\n",
       "    <tr>\n",
       "      <th>1</th>\n",
       "      <td>- 21/03/2022, 15:12 WIB</td>\n",
       "      <td>Nasional</td>\n",
       "      <td>menteri panrb cabut atur batas asn pergi negeri</td>\n",
       "    </tr>\n",
       "    <tr>\n",
       "      <th>2</th>\n",
       "      <td>- 21/03/2022, 16:54 WIB</td>\n",
       "      <td>Megapolitan</td>\n",
       "      <td>art aniaya anak balita majikan tetap sangka</td>\n",
       "    </tr>\n",
       "    <tr>\n",
       "      <th>3</th>\n",
       "      <td>- 21/03/2022, 16:50 WIB</td>\n",
       "      <td>Nasional</td>\n",
       "      <td>update maret mati jiwa</td>\n",
       "    </tr>\n",
       "    <tr>\n",
       "      <th>4</th>\n",
       "      <td>- 21/03/2022, 15:07 WIB</td>\n",
       "      <td>Nasional</td>\n",
       "      <td>haris sangka nilai bukti jabat sulit terima kr...</td>\n",
       "    </tr>\n",
       "  </tbody>\n",
       "</table>\n",
       "</div>"
      ],
      "text/plain": [
       "                    tanggal        label  \\\n",
       "0   - 21/03/2022, 16:34 WIB  Megapolitan   \n",
       "1   - 21/03/2022, 15:12 WIB     Nasional   \n",
       "2   - 21/03/2022, 16:54 WIB  Megapolitan   \n",
       "3   - 21/03/2022, 16:50 WIB     Nasional   \n",
       "4   - 21/03/2022, 15:07 WIB     Nasional   \n",
       "\n",
       "                                               judul  \n",
       "0  tawur ajar sekolah tangerang orang tewas kena ...  \n",
       "1    menteri panrb cabut atur batas asn pergi negeri  \n",
       "2        art aniaya anak balita majikan tetap sangka  \n",
       "3                             update maret mati jiwa  \n",
       "4  haris sangka nilai bukti jabat sulit terima kr...  "
      ]
     },
     "execution_count": 45,
     "metadata": {},
     "output_type": "execute_result"
    }
   ],
   "source": [
    "dataCSV = dataCSV.drop('judul', axis=1)\n",
    "dataCSV = dataCSV.drop('isi', axis=1)\n",
    "dataCSV['judul'] = np.array(array_stemming)\n",
    "dataCSV.head()"
   ]
  },
  {
   "cell_type": "code",
   "execution_count": 46,
   "metadata": {},
   "outputs": [],
   "source": [
    "dataCSV.to_csv('hasil_textProcessing.csv')"
   ]
  }
 ],
 "metadata": {
  "interpreter": {
   "hash": "14958d3aee5f1cad06795f787e54b96185c25fb40dfec723a5be941f3a531b8c"
  },
  "kernelspec": {
   "display_name": "Python 3.9.9 64-bit",
   "language": "python",
   "name": "python3"
  },
  "language_info": {
   "codemirror_mode": {
    "name": "ipython",
    "version": 3
   },
   "file_extension": ".py",
   "mimetype": "text/x-python",
   "name": "python",
   "nbconvert_exporter": "python",
   "pygments_lexer": "ipython3",
   "version": "3.9.9"
  }
 },
 "nbformat": 4,
 "nbformat_minor": 2
}
