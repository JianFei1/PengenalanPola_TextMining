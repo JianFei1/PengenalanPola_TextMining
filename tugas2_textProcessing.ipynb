{
 "cells": [
  {
   "cell_type": "markdown",
   "metadata": {},
   "source": [
    "## tugas 2 - clean number & symbol - stopword - Stemming"
   ]
  },
  {
   "cell_type": "code",
   "execution_count": 1,
   "metadata": {},
   "outputs": [],
   "source": [
    "import pandas as pd\n",
    "import nltk\n",
    "from nltk.corpus import stopwords\n",
    "from nltk import word_tokenize, FreqDist\n",
    "import numpy as np\n",
    "from Sastrawi.Stemmer.StemmerFactory import StemmerFactory\n"
   ]
  },
  {
   "cell_type": "markdown",
   "metadata": {},
   "source": [
    "## import data frame"
   ]
  },
  {
   "cell_type": "code",
   "execution_count": 2,
   "metadata": {},
   "outputs": [
    {
     "data": {
      "text/html": [
       "<div>\n",
       "<style scoped>\n",
       "    .dataframe tbody tr th:only-of-type {\n",
       "        vertical-align: middle;\n",
       "    }\n",
       "\n",
       "    .dataframe tbody tr th {\n",
       "        vertical-align: top;\n",
       "    }\n",
       "\n",
       "    .dataframe thead th {\n",
       "        text-align: right;\n",
       "    }\n",
       "</style>\n",
       "<table border=\"1\" class=\"dataframe\">\n",
       "  <thead>\n",
       "    <tr style=\"text-align: right;\">\n",
       "      <th></th>\n",
       "      <th>judul</th>\n",
       "      <th>label</th>\n",
       "      <th>isi</th>\n",
       "    </tr>\n",
       "  </thead>\n",
       "  <tbody>\n",
       "    <tr>\n",
       "      <th>0</th>\n",
       "      <td>2 ART Penganiaya 3 Anak Balita Majikan Ditetap...</td>\n",
       "      <td>Megapolitan</td>\n",
       "      <td>- Dua orang asisten rumah tangga (,) ditetapk...</td>\n",
       "    </tr>\n",
       "    <tr>\n",
       "      <th>1</th>\n",
       "      <td>Warga Korban Kebakaran di Cipete Cari Sisa Bar...</td>\n",
       "      <td>Megapolitan</td>\n",
       "      <td>- Sebagian , di RT 07 RW 06 Jalan Cempaka III...</td>\n",
       "    </tr>\n",
       "    <tr>\n",
       "      <th>2</th>\n",
       "      <td>UPDATE 21 Maret: Total Kasus Sembuh Covid-19 C...</td>\n",
       "      <td>Nasional</td>\n",
       "      <td>- Jumlah kasus sembuh setelah terpapar Covid-1...</td>\n",
       "    </tr>\n",
       "    <tr>\n",
       "      <th>3</th>\n",
       "      <td>MPR Sebut Tak Pernah Agendakan Amendemen UUD 1...</td>\n",
       "      <td>Nasional</td>\n",
       "      <td>- , (,) menyatakan mereka tidak pernah mengag...</td>\n",
       "    </tr>\n",
       "    <tr>\n",
       "      <th>4</th>\n",
       "      <td>Ditangkap Terkait Narkoba, Gitaris Roby Geisha...</td>\n",
       "      <td>Megapolitan</td>\n",
       "      <td>- Gitaris band Geisha, ,, yang lagi-lagi dita...</td>\n",
       "    </tr>\n",
       "  </tbody>\n",
       "</table>\n",
       "</div>"
      ],
      "text/plain": [
       "                                               judul        label  \\\n",
       "0  2 ART Penganiaya 3 Anak Balita Majikan Ditetap...  Megapolitan   \n",
       "1  Warga Korban Kebakaran di Cipete Cari Sisa Bar...  Megapolitan   \n",
       "2  UPDATE 21 Maret: Total Kasus Sembuh Covid-19 C...     Nasional   \n",
       "3  MPR Sebut Tak Pernah Agendakan Amendemen UUD 1...     Nasional   \n",
       "4  Ditangkap Terkait Narkoba, Gitaris Roby Geisha...  Megapolitan   \n",
       "\n",
       "                                                 isi  \n",
       "0   - Dua orang asisten rumah tangga (,) ditetapk...  \n",
       "1   - Sebagian , di RT 07 RW 06 Jalan Cempaka III...  \n",
       "2  - Jumlah kasus sembuh setelah terpapar Covid-1...  \n",
       "3   - , (,) menyatakan mereka tidak pernah mengag...  \n",
       "4   - Gitaris band Geisha, ,, yang lagi-lagi dita...  "
      ]
     },
     "execution_count": 2,
     "metadata": {},
     "output_type": "execute_result"
    }
   ],
   "source": [
    "#import data frame\n",
    "dataCSV = pd.read_csv('isi_berita.csv')\n",
    "dataCSV.head()"
   ]
  },
  {
   "cell_type": "markdown",
   "metadata": {},
   "source": [
    "## Stopword NLK"
   ]
  },
  {
   "cell_type": "code",
   "execution_count": 3,
   "metadata": {},
   "outputs": [],
   "source": [
    "index_iloc = 0\n",
    "len_df = len(dataCSV.index)\n",
    "array_stopwords = []\n",
    "for kata in range(len_df):\n",
    "    # indexData itu ambil tiap bagian dari data frame dengan nama dataCSV\n",
    "    indexData = dataCSV.iloc[index_iloc, [2]].values\n",
    "    clean_words = [w for w in word_tokenize(indexData[0].lower())\n",
    "                                    if w.isalpha()\n",
    "                                    and w not in stopwords.words('indonesian')]\n",
    "    \n",
    "    array_stopwords.append(clean_words)\n",
    "    index_iloc += 1\n",
    "\n",
    "    # FreqDist(clean_words).most_common(20)\n",
    "# print(array_stopwords)"
   ]
  },
  {
   "cell_type": "markdown",
   "metadata": {},
   "source": [
    "## stemming - sastrawi"
   ]
  },
  {
   "cell_type": "code",
   "execution_count": 4,
   "metadata": {},
   "outputs": [],
   "source": [
    "# mendefinisikan function stemming\n",
    "factory = StemmerFactory()\n",
    "stemmer = factory.create_stemmer()\n",
    "\n",
    "array_stemming = [] \n",
    "for j in array_stopwords:\n",
    "    # proses stem per kalimat\n",
    "    temp = \"\"\n",
    "    for i in j:\n",
    "        # print(i)\n",
    "        temp = temp +\" \"+ i\n",
    "\n",
    "    hasil = stemmer.stem(temp)\n",
    "    array_stemming.append(hasil)\n",
    "# print('array ', array_stemming)"
   ]
  },
  {
   "cell_type": "markdown",
   "metadata": {},
   "source": [
    "## export to csv"
   ]
  },
  {
   "cell_type": "code",
   "execution_count": 5,
   "metadata": {},
   "outputs": [
    {
     "data": {
      "text/html": [
       "<div>\n",
       "<style scoped>\n",
       "    .dataframe tbody tr th:only-of-type {\n",
       "        vertical-align: middle;\n",
       "    }\n",
       "\n",
       "    .dataframe tbody tr th {\n",
       "        vertical-align: top;\n",
       "    }\n",
       "\n",
       "    .dataframe thead th {\n",
       "        text-align: right;\n",
       "    }\n",
       "</style>\n",
       "<table border=\"1\" class=\"dataframe\">\n",
       "  <thead>\n",
       "    <tr style=\"text-align: right;\">\n",
       "      <th></th>\n",
       "      <th>judul</th>\n",
       "      <th>label</th>\n",
       "    </tr>\n",
       "  </thead>\n",
       "  <tbody>\n",
       "    <tr>\n",
       "      <th>0</th>\n",
       "      <td>2 ART Penganiaya 3 Anak Balita Majikan Ditetap...</td>\n",
       "      <td>Megapolitan</td>\n",
       "    </tr>\n",
       "    <tr>\n",
       "      <th>1</th>\n",
       "      <td>Warga Korban Kebakaran di Cipete Cari Sisa Bar...</td>\n",
       "      <td>Megapolitan</td>\n",
       "    </tr>\n",
       "    <tr>\n",
       "      <th>2</th>\n",
       "      <td>UPDATE 21 Maret: Total Kasus Sembuh Covid-19 C...</td>\n",
       "      <td>Nasional</td>\n",
       "    </tr>\n",
       "    <tr>\n",
       "      <th>3</th>\n",
       "      <td>MPR Sebut Tak Pernah Agendakan Amendemen UUD 1...</td>\n",
       "      <td>Nasional</td>\n",
       "    </tr>\n",
       "    <tr>\n",
       "      <th>4</th>\n",
       "      <td>Ditangkap Terkait Narkoba, Gitaris Roby Geisha...</td>\n",
       "      <td>Megapolitan</td>\n",
       "    </tr>\n",
       "  </tbody>\n",
       "</table>\n",
       "</div>"
      ],
      "text/plain": [
       "                                               judul        label\n",
       "0  2 ART Penganiaya 3 Anak Balita Majikan Ditetap...  Megapolitan\n",
       "1  Warga Korban Kebakaran di Cipete Cari Sisa Bar...  Megapolitan\n",
       "2  UPDATE 21 Maret: Total Kasus Sembuh Covid-19 C...     Nasional\n",
       "3  MPR Sebut Tak Pernah Agendakan Amendemen UUD 1...     Nasional\n",
       "4  Ditangkap Terkait Narkoba, Gitaris Roby Geisha...  Megapolitan"
      ]
     },
     "execution_count": 5,
     "metadata": {},
     "output_type": "execute_result"
    }
   ],
   "source": [
    "dataCSV = dataCSV.drop('isi', axis=1)\n",
    "dataCSV.head()\n"
   ]
  },
  {
   "cell_type": "code",
   "execution_count": 6,
   "metadata": {},
   "outputs": [
    {
     "data": {
      "text/html": [
       "<div>\n",
       "<style scoped>\n",
       "    .dataframe tbody tr th:only-of-type {\n",
       "        vertical-align: middle;\n",
       "    }\n",
       "\n",
       "    .dataframe tbody tr th {\n",
       "        vertical-align: top;\n",
       "    }\n",
       "\n",
       "    .dataframe thead th {\n",
       "        text-align: right;\n",
       "    }\n",
       "</style>\n",
       "<table border=\"1\" class=\"dataframe\">\n",
       "  <thead>\n",
       "    <tr style=\"text-align: right;\">\n",
       "      <th></th>\n",
       "      <th>judul</th>\n",
       "      <th>label</th>\n",
       "      <th>isi_berita_final</th>\n",
       "    </tr>\n",
       "  </thead>\n",
       "  <tbody>\n",
       "    <tr>\n",
       "      <th>0</th>\n",
       "      <td>2 ART Penganiaya 3 Anak Balita Majikan Ditetap...</td>\n",
       "      <td>Megapolitan</td>\n",
       "      <td>orang asisten rumah tangga tetap sangka aniaya...</td>\n",
       "    </tr>\n",
       "    <tr>\n",
       "      <th>1</th>\n",
       "      <td>Warga Korban Kebakaran di Cipete Cari Sisa Bar...</td>\n",
       "      <td>Megapolitan</td>\n",
       "      <td>rt rw jalan cempaka iii utara kebayoran jakart...</td>\n",
       "    </tr>\n",
       "    <tr>\n",
       "      <th>2</th>\n",
       "      <td>UPDATE 21 Maret: Total Kasus Sembuh Covid-19 C...</td>\n",
       "      <td>Nasional</td>\n",
       "      <td>sembuh papar indonesia catat data satu tugas s...</td>\n",
       "    </tr>\n",
       "    <tr>\n",
       "      <th>3</th>\n",
       "      <td>MPR Sebut Tak Pernah Agendakan Amendemen UUD 1...</td>\n",
       "      <td>Nasional</td>\n",
       "      <td>agenda amendemen dasar tuju panjang jabat pres...</td>\n",
       "    </tr>\n",
       "    <tr>\n",
       "      <th>4</th>\n",
       "      <td>Ditangkap Terkait Narkoba, Gitaris Roby Geisha...</td>\n",
       "      <td>Megapolitan</td>\n",
       "      <td>gitaris band geisha tangkap penyalahgunaan nar...</td>\n",
       "    </tr>\n",
       "  </tbody>\n",
       "</table>\n",
       "</div>"
      ],
      "text/plain": [
       "                                               judul        label  \\\n",
       "0  2 ART Penganiaya 3 Anak Balita Majikan Ditetap...  Megapolitan   \n",
       "1  Warga Korban Kebakaran di Cipete Cari Sisa Bar...  Megapolitan   \n",
       "2  UPDATE 21 Maret: Total Kasus Sembuh Covid-19 C...     Nasional   \n",
       "3  MPR Sebut Tak Pernah Agendakan Amendemen UUD 1...     Nasional   \n",
       "4  Ditangkap Terkait Narkoba, Gitaris Roby Geisha...  Megapolitan   \n",
       "\n",
       "                                    isi_berita_final  \n",
       "0  orang asisten rumah tangga tetap sangka aniaya...  \n",
       "1  rt rw jalan cempaka iii utara kebayoran jakart...  \n",
       "2  sembuh papar indonesia catat data satu tugas s...  \n",
       "3  agenda amendemen dasar tuju panjang jabat pres...  \n",
       "4  gitaris band geisha tangkap penyalahgunaan nar...  "
      ]
     },
     "execution_count": 6,
     "metadata": {},
     "output_type": "execute_result"
    }
   ],
   "source": [
    "dataCSV['isi_berita_final'] = np.array(array_stemming)\n",
    "dataCSV.head()"
   ]
  },
  {
   "cell_type": "code",
   "execution_count": 7,
   "metadata": {},
   "outputs": [],
   "source": [
    "dataCSV.to_csv('hasil_textProcessing.csv')"
   ]
  }
 ],
 "metadata": {
  "interpreter": {
   "hash": "14958d3aee5f1cad06795f787e54b96185c25fb40dfec723a5be941f3a531b8c"
  },
  "kernelspec": {
   "display_name": "Python 3.9.9 64-bit",
   "language": "python",
   "name": "python3"
  },
  "language_info": {
   "codemirror_mode": {
    "name": "ipython",
    "version": 3
   },
   "file_extension": ".py",
   "mimetype": "text/x-python",
   "name": "python",
   "nbconvert_exporter": "python",
   "pygments_lexer": "ipython3",
   "version": "3.9.9"
  }
 },
 "nbformat": 4,
 "nbformat_minor": 2
}
